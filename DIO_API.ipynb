{
  "nbformat": 4,
  "nbformat_minor": 0,
  "metadata": {
    "colab": {
      "provenance": [],
      "authorship_tag": "ABX9TyOt566kvuGFwckAF23A785C",
      "include_colab_link": true
    },
    "kernelspec": {
      "name": "python3",
      "display_name": "Python 3"
    },
    "language_info": {
      "name": "python"
    }
  },
  "cells": [
    {
      "cell_type": "markdown",
      "metadata": {
        "id": "view-in-github",
        "colab_type": "text"
      },
      "source": [
        "<a href=\"https://colab.research.google.com/github/marloncosta29/-gostack-template-reactjs-crud/blob/master/DIO_API.ipynb\" target=\"_parent\"><img src=\"https://colab.research.google.com/assets/colab-badge.svg\" alt=\"Open In Colab\"/></a>"
      ]
    },
    {
      "cell_type": "code",
      "execution_count": 2,
      "metadata": {
        "colab": {
          "base_uri": "https://localhost:8080/"
        },
        "id": "FvWa60BaShvM",
        "outputId": "0514f8f3-420b-4bd4-cf7c-0a344517152e"
      },
      "outputs": [
        {
          "output_type": "stream",
          "name": "stdout",
          "text": [
            "Collecting pyngrok\n",
            "  Downloading pyngrok-7.1.6-py3-none-any.whl (22 kB)\n",
            "Requirement already satisfied: PyYAML>=5.1 in /usr/local/lib/python3.10/dist-packages (from pyngrok) (6.0.1)\n",
            "Installing collected packages: pyngrok\n",
            "Successfully installed pyngrok-7.1.6\n"
          ]
        }
      ],
      "source": [
        "!pip install pyngrok\n",
        "from pyngrok import ngrok\n",
        "ngrok.set_auth_token(\"2eVgsDyz0e54GjOePqcfuUodNs2_3i2hjZ7iX9TWRzppddEvj\")"
      ]
    },
    {
      "cell_type": "code",
      "source": [
        "from flask import Flask, jsonify\n",
        "import threading\n",
        "import requests\n",
        "import json"
      ],
      "metadata": {
        "id": "9t8JcZ3wTDD3"
      },
      "execution_count": 3,
      "outputs": []
    },
    {
      "cell_type": "code",
      "source": [
        "data = [\n",
        "    {\n",
        "        \"Number\": \"1\",\n",
        "        \"Name\": \"Mahesh\",\n",
        "        \"Age\": \"25\",\n",
        "        \"City\": \"Bangalore\",\n",
        "        \"Country\": \"India\"\n",
        "    },\n",
        "    {\n",
        "        \"Number\": \"2\",\n",
        "        \"Name\": \"Alex\",\n",
        "        \"Age\": \"26\",\n",
        "        \"City\": \"London\",\n",
        "        \"Country\": \"England\"\n",
        "    },\n",
        "    {\n",
        "        \"Number\": \"3\",\n",
        "        \"Name\": \"David\",\n",
        "        \"Age\": \"27\",\n",
        "        \"City\": \"San Francisco\",\n",
        "        \"Country\": \"USA\"\n",
        "    },\n",
        "    {\n",
        "        \"Number\": \"4\",\n",
        "        \"Name\": \"John\",\n",
        "        \"Age\": \"28\",\n",
        "        \"City\": \"Toronto\",\n",
        "        \"Country\": \"Canada\"\n",
        "    },\n",
        "    {\n",
        "        \"Number\": \"5\",\n",
        "        \"Name\": \"Chris\",\n",
        "        \"Age\": \"29\",\n",
        "        \"City\": \"Paris\",\n",
        "        \"Country\": \"France\"\n",
        "    }\n",
        "]"
      ],
      "metadata": {
        "id": "72DM2_jvoV7r"
      },
      "execution_count": 4,
      "outputs": []
    },
    {
      "cell_type": "code",
      "source": [
        "import json\n",
        "\n",
        "app = Flask(__name__)\n",
        "port = \"5000\"\n",
        "\n",
        "public_url = ngrok.connect(port).public_url\n",
        "print(f\" * ngrok tunnel \\\"{public_url}\\\" -> \\\"http://127.0.0.1:{port}\\\"\")\n",
        "\n",
        "app.config[\"BASE_URL\"] = public_url\n",
        "\n",
        "@app.route(\"/\")\n",
        "def home():\n",
        "  return 'Hello world from python and Colab'\n",
        "\n",
        "@app.route(\"/index\")\n",
        "def read_json():\n",
        "  return jsonify(data)\n",
        "\n",
        "@app.route(\"/breed_list\")\n",
        "def list_breeding():\n",
        "\n",
        "  breed_list = ''\n",
        "\n",
        "  link = \"https://dog.ceo/api/breeds/list/all\"\n",
        "  f = requests.get(link)\n",
        "  for breed in json.loads(f.text)['message']:\n",
        "    breed_list += f\"<h1 style=\\\"border: 2px solid black; padding: 10px; margin: 10px; background-color: #fff\\\">{breed}</h1>\"\n",
        "\n",
        "\n",
        "  html_base = f\"\"\"\n",
        "                <!DOCTYPE html>\n",
        "                <html lang=\"en\">\n",
        "                  <head>\n",
        "                    <meta charset=\"UTF-8\">\n",
        "                    <meta name=\"viewport\" content=\"width=device-width, initial-scale=1.0\">\n",
        "                  </head>\n",
        "                  <body style=\"display: flex; flex-direction: column; justify-content: center; align-items: center; background-color: #6e28d9\">\n",
        "                    <h1>Raças de Doguinhos</h1>\n",
        "                    <div>\n",
        "                      {breed_list}\n",
        "                    </div>\n",
        "                  </body>\n",
        "                </html>\n",
        "                \"\"\"\n",
        "  return html_base\n",
        "\n",
        "threading.Thread(target=app.run, kwargs={\"use_reloader\": False}).start()"
      ],
      "metadata": {
        "colab": {
          "base_uri": "https://localhost:8080/"
        },
        "id": "v-D6FgAKTKBI",
        "outputId": "4583a39a-5490-4dfc-b048-e00df7fe7f73"
      },
      "execution_count": 5,
      "outputs": [
        {
          "output_type": "stream",
          "name": "stdout",
          "text": [
            " * ngrok tunnel \"https://66eb-104-154-89-161.ngrok-free.app\" -> \"http://127.0.0.1:5000\"\n",
            " * Serving Flask app '__main__'\n",
            " * Debug mode: off\n"
          ]
        },
        {
          "output_type": "stream",
          "name": "stderr",
          "text": [
            "INFO:werkzeug:\u001b[31m\u001b[1mWARNING: This is a development server. Do not use it in a production deployment. Use a production WSGI server instead.\u001b[0m\n",
            " * Running on http://127.0.0.1:5000\n",
            "INFO:werkzeug:\u001b[33mPress CTRL+C to quit\u001b[0m\n"
          ]
        }
      ]
    }
  ]
}